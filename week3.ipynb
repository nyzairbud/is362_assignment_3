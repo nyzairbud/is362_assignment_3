{
 "cells": [
  {
   "cell_type": "markdown",
   "metadata": {},
   "source": [
    "first the dates are created by using date_range from pandas. This will create dates between the range that it has been given"
   ]
  },
  {
   "cell_type": "code",
   "execution_count": 77,
   "metadata": {},
   "outputs": [],
   "source": [
    "import pandas as pd\n",
    "import datetime\n",
    "import numpy as np\n",
    "import random\n",
    "\n",
    "days = pd.date_range('2014-07-01', '2014-07-07')\n"
   ]
  },
  {
   "cell_type": "markdown",
   "metadata": {},
   "source": [
    "Next we will create random generated integers that are sorted from least to greatest. This will prevent negative numbers from appearing later on when we are subtracting. We will then convert into a series by specifing the index to look at the date_range we created previously "
   ]
  },
  {
   "cell_type": "code",
   "execution_count": null,
   "metadata": {},
   "outputs": [],
   "source": [
    "x = 7\n",
    "random_list = [random.randint(0,300) for i in range(x)]\n",
    "random_list.sort()\n",
    "arr = np.array(random_list)\n",
    "ans = pd.Series((random_list), index = days)\n",
    "\n",
    "print (random_list)\n"
   ]
  },
  {
   "cell_type": "markdown",
   "metadata": {},
   "source": [
    "A for loop is then created by creating an empty dictionary and populating it with the data from the random list and days in order to get the miles covered per day "
   ]
  },
  {
   "cell_type": "code",
   "execution_count": null,
   "metadata": {},
   "outputs": [],
   "source": [
    "total = {}\n",
    "n=0\n",
    "for dates, miles in ans.items():\n",
    "    todays_miles= miles-n\n",
    "    total[dates] = todays_miles\n",
    "    n = miles"
   ]
  },
  {
   "cell_type": "markdown",
   "metadata": {},
   "source": [
    "Now we put it all together and we can now see the random numbers alog with the difference between them, mimicing the daily miles\n"
   ]
  },
  {
   "cell_type": "code",
   "execution_count": 80,
   "metadata": {},
   "outputs": [
    {
     "name": "stdout",
     "output_type": "stream",
     "text": [
      "[6, 94, 100, 120, 133, 195, 291]\n",
      "2014-07-01     6\n",
      "2014-07-02    88\n",
      "2014-07-03     6\n",
      "2014-07-04    20\n",
      "2014-07-05    13\n",
      "2014-07-06    62\n",
      "2014-07-07    96\n",
      "dtype: int64\n"
     ]
    }
   ],
   "source": [
    "import pandas as pd\n",
    "import datetime\n",
    "import numpy as np\n",
    "import random\n",
    "\n",
    "days = pd.date_range('2014-07-01', '2014-07-07')\n",
    "x = 7\n",
    "random_list = [random.randint(0,300) for i in range(x)]\n",
    "random_list.sort()\n",
    "arr = np.array(random_list)\n",
    "ans = pd.Series((random_list), index = days)\n",
    "\n",
    "total = {}\n",
    "n=0\n",
    "for dates, miles in ans.items():\n",
    "    todays_miles= miles-n\n",
    "    total[dates] = todays_miles\n",
    "    n = miles\n",
    "\n",
    "new = pd.Series(total)\n",
    "\n",
    "print (random_list)\n",
    "print (new)\n"
   ]
  }
 ],
 "metadata": {
  "kernelspec": {
   "display_name": "Python 3",
   "language": "python",
   "name": "python3"
  },
  "language_info": {
   "codemirror_mode": {
    "name": "ipython",
    "version": 3
   },
   "file_extension": ".py",
   "mimetype": "text/x-python",
   "name": "python",
   "nbconvert_exporter": "python",
   "pygments_lexer": "ipython3",
   "version": "3.6.5"
  }
 },
 "nbformat": 4,
 "nbformat_minor": 2
}
